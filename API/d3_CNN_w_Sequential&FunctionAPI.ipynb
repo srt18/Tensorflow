{
 "cells": [
  {
   "cell_type": "code",
   "execution_count": 1,
   "id": "47b36ee8-33fa-4089-ab6d-ef810870a393",
   "metadata": {},
   "outputs": [],
   "source": [
    "# Needed libraries\n",
    "import os\n",
    "import tensorflow as tf\n",
    "from tensorflow import keras\n",
    "from tensorflow.keras import layers\n",
    "from tensorflow.keras.datasets import cifar10\n",
    "from datetime import datetime\n",
    "import time\n",
    "# physical_devices = tf.config.list_physical_devices('GPU')\n",
    "# if physical_devices:\n",
    "#     tf.config.experimental.set_memory_growth(physical_devices[0], True)\n",
    "#     print(\"Memory growth set for GPU.\")\n",
    "# else:\n",
    "#     print(\"No GPU found. Running on CPU.\")"
   ]
  },
  {
   "cell_type": "code",
   "execution_count": 2,
   "id": "f5d0cc71-0457-4232-ac3c-04e45dcd9956",
   "metadata": {},
   "outputs": [],
   "source": [
    "(x_train, y_train),( x_test, y_test) = cifar10.load_data()"
   ]
  },
  {
   "cell_type": "code",
   "execution_count": 3,
   "id": "9e42224a-32ab-4bd5-be8b-689545f30207",
   "metadata": {},
   "outputs": [],
   "source": [
    "x_train = x_train.astype(\"float32\") / 255.0\n",
    "x_test = x_test.astype(\"float32\") / 255.0"
   ]
  },
  {
   "cell_type": "code",
   "execution_count": 5,
   "id": "bdaf5133-bdea-4cf0-8842-be4c12d45325",
   "metadata": {},
   "outputs": [
    {
     "name": "stdout",
     "output_type": "stream",
     "text": [
      "Model: \"sequential_1\"\n",
      "_________________________________________________________________\n",
      " Layer (type)                Output Shape              Param #   \n",
      "=================================================================\n",
      " conv2d_3 (Conv2D)           (None, 30, 30, 32)        896       \n",
      "                                                                 \n",
      " max_pooling2d_2 (MaxPoolin  (None, 15, 15, 32)        0         \n",
      " g2D)                                                            \n",
      "                                                                 \n",
      " conv2d_4 (Conv2D)           (None, 13, 13, 64)        18496     \n",
      "                                                                 \n",
      " max_pooling2d_3 (MaxPoolin  (None, 6, 6, 64)          0         \n",
      " g2D)                                                            \n",
      "                                                                 \n",
      " conv2d_5 (Conv2D)           (None, 4, 4, 128)         73856     \n",
      "                                                                 \n",
      " flatten_1 (Flatten)         (None, 2048)              0         \n",
      "                                                                 \n",
      " dense_2 (Dense)             (None, 64)                131136    \n",
      "                                                                 \n",
      " dense_3 (Dense)             (None, 10)                650       \n",
      "                                                                 \n",
      "=================================================================\n",
      "Total params: 225034 (879.04 KB)\n",
      "Trainable params: 225034 (879.04 KB)\n",
      "Non-trainable params: 0 (0.00 Byte)\n",
      "_________________________________________________________________\n",
      "None\n",
      "Epoch 1/10\n",
      "782/782 - 31s - loss: 1.6994 - accuracy: 0.3744 - 31s/epoch - 39ms/step\n",
      "Epoch 2/10\n",
      "782/782 - 33s - loss: 1.3784 - accuracy: 0.5036 - 33s/epoch - 42ms/step\n",
      "Epoch 3/10\n",
      "782/782 - 30s - loss: 1.2432 - accuracy: 0.5603 - 30s/epoch - 39ms/step\n",
      "Epoch 4/10\n",
      "782/782 - 38s - loss: 1.1446 - accuracy: 0.5960 - 38s/epoch - 48ms/step\n",
      "Epoch 5/10\n",
      "782/782 - 44s - loss: 1.0550 - accuracy: 0.6295 - 44s/epoch - 57ms/step\n",
      "Epoch 6/10\n",
      "782/782 - 41s - loss: 0.9929 - accuracy: 0.6532 - 41s/epoch - 52ms/step\n",
      "Epoch 7/10\n",
      "782/782 - 30s - loss: 0.9403 - accuracy: 0.6743 - 30s/epoch - 38ms/step\n",
      "Epoch 8/10\n",
      "782/782 - 30s - loss: 0.8926 - accuracy: 0.6919 - 30s/epoch - 38ms/step\n",
      "Epoch 9/10\n",
      "782/782 - 29s - loss: 0.8528 - accuracy: 0.7032 - 29s/epoch - 37ms/step\n",
      "Epoch 10/10\n",
      "782/782 - 29s - loss: 0.8162 - accuracy: 0.7186 - 29s/epoch - 37ms/step\n",
      "157/157 - 2s - loss: 0.8603 - accuracy: 0.7053 - 2s/epoch - 12ms/step\n"
     ]
    },
    {
     "data": {
      "text/plain": [
       "[0.8603165745735168, 0.705299973487854]"
      ]
     },
     "execution_count": 5,
     "metadata": {},
     "output_type": "execute_result"
    }
   ],
   "source": [
    "model = keras.Sequential(\n",
    "    [\n",
    "        keras.Input(shape=(32,32,3)),\n",
    "        layers.Conv2D(32,3,padding = 'valid',activation='relu'), #1. Conv2D\n",
    "        layers.MaxPooling2D(pool_size=(2,2)),\n",
    "        layers.Conv2D(64,3,activation='relu'), #2. Conv2D\n",
    "        layers.MaxPooling2D(),\n",
    "        layers.Conv2D(128,3,activation='relu'), #3. Conv2D\n",
    "        layers.Flatten(),\n",
    "        layers.Dense(64,activation='relu'), \n",
    "        layers.Dense(10)\n",
    "    ]\n",
    ")\n",
    "print(model.summary())\n",
    "\n",
    "model.compile(\n",
    "    loss=keras.losses.SparseCategoricalCrossentropy(from_logits=True),\n",
    "    optimizer=keras.optimizers.Adam(learning_rate=3e-4),\n",
    "    metrics=[\"accuracy\"],\n",
    ")\n",
    "\n",
    "model.fit(x_train, y_train, batch_size=64, epochs=10, verbose=2)\n",
    "model.evaluate(x_test, y_test, batch_size=64, verbose=2) "
   ]
  },
  {
   "cell_type": "code",
   "execution_count": 4,
   "id": "827b50b1-41bb-4932-9176-d2c32d25fbc5",
   "metadata": {},
   "outputs": [
    {
     "name": "stdout",
     "output_type": "stream",
     "text": [
      "Model: \"model\"\n",
      "_________________________________________________________________\n",
      " Layer (type)                Output Shape              Param #   \n",
      "=================================================================\n",
      " input_1 (InputLayer)        [(None, 32, 32, 3)]       0         \n",
      "                                                                 \n",
      " conv2d (Conv2D)             (None, 30, 30, 32)        896       \n",
      "                                                                 \n",
      " batch_normalization (Batch  (None, 30, 30, 32)        128       \n",
      " Normalization)                                                  \n",
      "                                                                 \n",
      " tf.nn.relu (TFOpLambda)     (None, 30, 30, 32)        0         \n",
      "                                                                 \n",
      " max_pooling2d (MaxPooling2  (None, 15, 15, 32)        0         \n",
      " D)                                                              \n",
      "                                                                 \n",
      " conv2d_1 (Conv2D)           (None, 15, 15, 64)        51264     \n",
      "                                                                 \n",
      " batch_normalization_1 (Bat  (None, 15, 15, 64)        256       \n",
      " chNormalization)                                                \n",
      "                                                                 \n",
      " tf.nn.relu_1 (TFOpLambda)   (None, 15, 15, 64)        0         \n",
      "                                                                 \n",
      " conv2d_2 (Conv2D)           (None, 13, 13, 128)       73856     \n",
      "                                                                 \n",
      " batch_normalization_2 (Bat  (None, 13, 13, 128)       512       \n",
      " chNormalization)                                                \n",
      "                                                                 \n",
      " tf.nn.relu_2 (TFOpLambda)   (None, 13, 13, 128)       0         \n",
      "                                                                 \n",
      " flatten (Flatten)           (None, 21632)             0         \n",
      "                                                                 \n",
      " dense (Dense)               (None, 64)                1384512   \n",
      "                                                                 \n",
      " dense_1 (Dense)             (None, 10)                650       \n",
      "                                                                 \n",
      "=================================================================\n",
      "Total params: 1512074 (5.77 MB)\n",
      "Trainable params: 1511626 (5.77 MB)\n",
      "Non-trainable params: 448 (1.75 KB)\n",
      "_________________________________________________________________\n",
      "None\n",
      "Epoch 1/10\n",
      "782/782 - 161s - loss: 1.3257 - accuracy: 0.5271 - 161s/epoch - 207ms/step\n",
      "Epoch 2/10\n",
      "782/782 - 147s - loss: 0.9286 - accuracy: 0.6739 - 147s/epoch - 188ms/step\n",
      "Epoch 3/10\n",
      "782/782 - 150s - loss: 0.7594 - accuracy: 0.7324 - 150s/epoch - 192ms/step\n",
      "Epoch 4/10\n",
      "782/782 - 145s - loss: 0.6481 - accuracy: 0.7713 - 145s/epoch - 186ms/step\n",
      "Epoch 5/10\n",
      "782/782 - 151s - loss: 0.5511 - accuracy: 0.8059 - 151s/epoch - 193ms/step\n",
      "Epoch 6/10\n",
      "782/782 - 154s - loss: 0.4715 - accuracy: 0.8351 - 154s/epoch - 197ms/step\n",
      "Epoch 7/10\n",
      "782/782 - 145s - loss: 0.3922 - accuracy: 0.8633 - 145s/epoch - 185ms/step\n",
      "Epoch 8/10\n",
      "782/782 - 145s - loss: 0.3272 - accuracy: 0.8865 - 145s/epoch - 186ms/step\n",
      "Epoch 9/10\n",
      "782/782 - 143s - loss: 0.2700 - accuracy: 0.9072 - 143s/epoch - 183ms/step\n",
      "Epoch 10/10\n",
      "782/782 - 148s - loss: 0.2186 - accuracy: 0.9271 - 148s/epoch - 190ms/step\n",
      "157/157 - 10s - loss: 1.1094 - accuracy: 0.6931 - 10s/epoch - 66ms/step\n"
     ]
    },
    {
     "data": {
      "text/plain": [
       "[1.1093515157699585, 0.6930999755859375]"
      ]
     },
     "execution_count": 4,
     "metadata": {},
     "output_type": "execute_result"
    }
   ],
   "source": [
    "#same model according to Function base\n",
    "def my_model():\n",
    "    inputs = keras.Input(shape=(32,32,3))\n",
    "    x = layers.Conv2D(32,3)(inputs)\n",
    "    x = layers.BatchNormalization()(x)\n",
    "    x = keras.activations.relu(x)\n",
    "    x = layers.MaxPooling2D()(x)\n",
    "    x = layers.Conv2D(64, 5, padding='same')(x)\n",
    "    x = layers.BatchNormalization()(x)\n",
    "    x = keras.activations.relu(x)\n",
    "    x = layers.Conv2D(128,3)(x)\n",
    "    x = layers.BatchNormalization()(x)\n",
    "    x = keras.activations.relu(x)\n",
    "    x = layers.Flatten()(x)\n",
    "    x = layers.Dense(64,activation='relu')(x)\n",
    "    outputs = layers.Dense(10)(x)\n",
    "    model1 = keras.Model(inputs=inputs, outputs=outputs)\n",
    "    return model1\n",
    "    \n",
    "model1 = my_model()\n",
    "# print(my_model())\n",
    "# print(model())\n",
    "print(model1.summary())\n",
    "model1.compile(\n",
    "    loss=keras.losses.SparseCategoricalCrossentropy(from_logits=True),\n",
    "    optimizer=keras.optimizers.Adam(learning_rate=3e-4),\n",
    "    metrics=[\"accuracy\"],\n",
    ")\n",
    "\n",
    "model1.fit(x_train, y_train, batch_size=64, epochs=10, verbose=2)\n",
    "model1.evaluate(x_test, y_test, batch_size=64, verbose=2) "
   ]
  },
  {
   "cell_type": "code",
   "execution_count": null,
   "id": "203faf2f-7c72-42df-81ef-88d1774fcc27",
   "metadata": {},
   "outputs": [],
   "source": []
  }
 ],
 "metadata": {
  "kernelspec": {
   "display_name": "Python 3 (ipykernel)",
   "language": "python",
   "name": "python3"
  },
  "language_info": {
   "codemirror_mode": {
    "name": "ipython",
    "version": 3
   },
   "file_extension": ".py",
   "mimetype": "text/x-python",
   "name": "python",
   "nbconvert_exporter": "python",
   "pygments_lexer": "ipython3",
   "version": "3.8.20"
  }
 },
 "nbformat": 4,
 "nbformat_minor": 5
}
